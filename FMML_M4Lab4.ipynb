{
  "nbformat": 4,
  "nbformat_minor": 0,
  "metadata": {
    "colab": {
      "provenance": [],
      "include_colab_link": true
    },
    "kernelspec": {
      "name": "python3",
      "display_name": "Python 3"
    },
    "language_info": {
      "name": "python"
    }
  },
  "cells": [
    {
      "cell_type": "markdown",
      "metadata": {
        "id": "view-in-github",
        "colab_type": "text"
      },
      "source": [
        "<a href=\"https://colab.research.google.com/github/shrikant280304/FMML_PROJECTS_AND_LABS/blob/main/FMML_M4Lab4.ipynb\" target=\"_parent\"><img src=\"https://colab.research.google.com/assets/colab-badge.svg\" alt=\"Open In Colab\"/></a>"
      ]
    },
    {
      "cell_type": "markdown",
      "metadata": {
        "id": "gjvepVoWOJU_"
      },
      "source": [
        "# FOUNDATIONS OF MODERN MACHINE LEARNING, IIIT Hyderabad\n",
        "# Module 4\n",
        "## Lab 4: Support Vector Machines"
      ]
    },
    {
      "cell_type": "code",
      "metadata": {
        "id": "KjCAglTcNeGi"
      },
      "source": [
        "#Importing the necessary packages\n",
        "from sklearn.datasets import load_iris\n",
        "from sklearn import tree\n",
        "from sklearn.model_selection import train_test_split\n",
        "from sklearn.ensemble import RandomForestClassifier\n",
        "from sklearn import svm\n",
        "\n",
        "import pandas\n",
        "import numpy as np\n",
        "from sklearn.metrics import accuracy_score, confusion_matrix, ConfusionMatrixDisplay\n",
        "from sklearn.experimental import enable_iterative_imputer\n",
        "from sklearn.impute import IterativeImputer\n",
        "import matplotlib.pyplot as plt\n"
      ],
      "execution_count": null,
      "outputs": []
    },
    {
      "cell_type": "markdown",
      "metadata": {
        "id": "Ffq0iFPad5dq"
      },
      "source": [
        "The topic of classifier in today's lab, SVMs make for really good linear separators. Let us look at an example which has linearly separable data:"
      ]
    },
    {
      "cell_type": "code",
      "metadata": {
        "id": "6wSo9Y7DWTth"
      },
      "source": [
        "np.random.seed(0)\n",
        "\n",
        "ar = np.vstack(     [\\\n",
        "                    np.random.multivariate_normal(np.array([1, 1]), 1.5 * np.array([[2, -1], [-1, 2.0]]), size = 50, ),\\\n",
        "                    np.random.multivariate_normal(np.array([3, 3]), 2 * np.array([[0.75, -0.5], [-0.5, 0.75]]), size = 50, )\n",
        "                    ]\\\n",
        "              )\n",
        "\n",
        "testAr = np.vstack(   [\\\n",
        "                      np.random.multivariate_normal(np.array([1, 1]), np.array([[0.5, -0.25], [-0.25, 0.5]]), size = 500, ),\\\n",
        "                      np.random.multivariate_normal(np.array([3, 3]), np.array([[0.75, -0.5], [-0.5, 0.75]]), size = 500, )\n",
        "                      ]\\\n",
        "                  )\n",
        "testy = np.array([0] * int((testAr.shape[0]/2)) + [1] * int((testAr.shape[0]/2)))\n",
        "\n",
        "X = ar\n",
        "y = np.array([0] * int((ar.shape[0]/2)) + [1] * int((ar.shape[0]/2)))\n",
        "\n",
        "def plotDecisionBoundary(X, y, pair, clf):\n",
        "  x_min, x_max = X[:, pair[0]].min() - 1, X[:, pair[0]].max() + 1\n",
        "  y_min, y_max = X[:, pair[1]].min() - 1, X[:, pair[1]].max() + 1\n",
        "  xx, yy = np.meshgrid(np.arange(x_min, x_max, 0.1),\n",
        "                      np.arange(y_min, y_max, 0.1))\n",
        "\n",
        "  y_pred = clf.predict(np.c_[xx.ravel(), yy.ravel()])\n",
        "  y_pred = y_pred.reshape(xx.shape)\n",
        "  plt.figure(figsize=(5,4))\n",
        "  plt.contourf(xx, yy, y_pred, alpha=0.4)\n",
        "  plt.scatter(X[:, pair[0]], X[:, pair[1]], c = y, s = 50, edgecolor='k')\n",
        "  # plt.legend()\n",
        "  plt.gcf().set_dpi(130)\n",
        "  plt.show()\n",
        "\n",
        "def boundaryExp() :\n",
        "  clf = svm.LinearSVC()\n",
        "  pair = [0, 1]\n",
        "  clf.fit(X[:, pair], y)\n",
        "  plotDecisionBoundary(X, y, pair, clf)\n",
        "\n",
        "  plt.show()\n",
        "\n",
        "boundaryExp()"
      ],
      "execution_count": null,
      "outputs": []
    },
    {
      "cell_type": "markdown",
      "metadata": {
        "id": "2vifDnoBfggg"
      },
      "source": [
        "## Intuitive introduction to SVMs:\n",
        "\n",
        "![SVM](http://res.cloudinary.com/dyd911kmh/image/upload/f_auto,q_auto:best/v1526288453/index3_souoaz.png)\n",
        "\n",
        "SVMs are an iterative approach of trying to find the optimal hyperplane that divides the multidimentional space into different classes present in the dataset.\n",
        "\n",
        "\n",
        "**Hyperplanes:** These are the decision planes that separate the objects of classes that we are trying to classify.\n",
        "\n",
        "**Support Vectors** : Support vectors are the points from dataset that are closest to the hyperplane that divides the dataset.\n",
        "\n",
        "**Margin**:  The gap between the closest support vectors from the different class along the direction perpendicular to the hyperplane. Simply put, it is the sum of perpendicular distance of the support vector of each class to the hyperplane.\n",
        "\n",
        "---"
      ]
    },
    {
      "cell_type": "markdown",
      "metadata": {
        "id": "y0NxvgQziwTE"
      },
      "source": [
        "Let us try to fall back to the well known dataset and see how SVMs perform on the iris dataset"
      ]
    },
    {
      "cell_type": "code",
      "metadata": {
        "id": "DQldybfydNgN"
      },
      "source": [
        "iris = load_iris()\n",
        "X, y = iris.data, iris.target\n",
        "\n",
        "X_train, X_test, y_train, y_test = train_test_split(X, y, random_state = 0)\n",
        "irisData = pandas.DataFrame(\\\n",
        "    data = np.hstack((X,y.reshape(y.shape[0], 1), [[iris[\"target_names\"][int(classIdx)]] for classIdx in y])), \\\n",
        "    columns=['sepal_length', 'sepal_width', 'petal_length', 'petal_width', \"Class\", \"ClassName\"])\n",
        "irisData.sample(n = 10, random_state = 1)"
      ],
      "execution_count": null,
      "outputs": []
    },
    {
      "cell_type": "code",
      "metadata": {
        "id": "GOmnB77zn88d"
      },
      "source": [
        "clf = svm.LinearSVC()\n",
        "clf.fit(X_train, y_train)\n",
        "y_pred = clf.predict(X_test)\n",
        "print(\"Accuracy of the decision tree on the test set: \\n\\n{:.3f}\\n\\n\".format(accuracy_score(y_pred, y_test)))\n",
        "class_names = iris[\"target_names\"]\n",
        "print(\"The confusion matrix is : \")\n",
        "cm = confusion_matrix(y_test, y_pred)\n",
        "\n",
        "disp = ConfusionMatrixDisplay(confusion_matrix=cm, display_labels=class_names)\n",
        "disp.plot(cmap='viridis', values_format='.0f')\n",
        "\n",
        "plt.show()"
      ],
      "execution_count": null,
      "outputs": []
    },
    {
      "cell_type": "markdown",
      "metadata": {
        "id": "vzbWs0CAoxuW"
      },
      "source": [
        "Now lets again try to see how does SVM perform when we give it just two of the features from the dataset"
      ]
    },
    {
      "cell_type": "code",
      "metadata": {
        "id": "ieCYm-K8olsj"
      },
      "source": [
        "clf = svm.LinearSVC()\n",
        "pair = [2, 3]\n",
        "clf.fit(X[:, pair], y)\n",
        "plotDecisionBoundary(X, y, [2, 3], clf)"
      ],
      "execution_count": null,
      "outputs": []
    },
    {
      "cell_type": "code",
      "metadata": {
        "id": "h_xJkLNxpCLq"
      },
      "source": [
        "clf = svm.LinearSVC()\n",
        "pair = [0, 1]\n",
        "clf.fit(X[:, pair], y)\n",
        "plotDecisionBoundary(X, y, pair, clf)"
      ],
      "execution_count": null,
      "outputs": []
    },
    {
      "cell_type": "markdown",
      "metadata": {
        "id": "l7iyfYePpaM6"
      },
      "source": [
        "#### Alas! We see that SVMs are not able to classify the data in the above experiment because the data is not **linearly separable**\n",
        "\n",
        "Thankfully, We have a neat trick up our sleeves that will help us to solve these problems. Let us take a look at a typical example that is used to illustrate this trick before we get back to the above dataset.\n",
        "\n",
        "---"
      ]
    },
    {
      "cell_type": "markdown",
      "metadata": {
        "id": "xtn7FxSZqRj8"
      },
      "source": [
        "# The Kernel Trick\n",
        "\n",
        "The true potential of SVMs is unleashed when they are combined with kernels.\n",
        "\n",
        "## Kernels : An intuitive explanation\n",
        "\n",
        "Kernel methods are essentially counting on using the training data (say $i^{th}$ example $(x_i, y_i)$ ) itself in a more straightforward way and learning a corresponding weight ($w_i$) for that example. Rather than trying to learn a fixed set of parameters which is done typically.\n",
        "Depending on the kind of kernel used, we can virtually project the training data in a higher dimension to make it easier for the classifier to classify them.\n"
      ]
    },
    {
      "cell_type": "code",
      "metadata": {
        "id": "rpzUIM1ppnxX"
      },
      "source": [
        "from sklearn.datasets import make_circles\n",
        "X, y = make_circles(200, factor=.1, noise=.1)\n",
        "\n",
        "clf = svm.SVC(kernel='linear').fit(X, y)\n",
        "\n",
        "plt.scatter(X[:, 0], X[:, 1], c=y, s=50, cmap='tab20')\n",
        "plt.gcf().set_dpi(110)"
      ],
      "execution_count": null,
      "outputs": []
    },
    {
      "cell_type": "code",
      "metadata": {
        "id": "_cInt5fSty3w"
      },
      "source": [
        "plt.style.use(\"default\")\n",
        "clf = svm.LinearSVC()\n",
        "pair = [0, 1]\n",
        "clf.fit(X[:, pair], y)\n",
        "plotDecisionBoundary(X, y, [0, 1], clf)"
      ],
      "execution_count": null,
      "outputs": []
    },
    {
      "cell_type": "markdown",
      "metadata": {
        "id": "KJaPFAniusEA"
      },
      "source": [
        "However, if we artificially add another dimention to the dataset of the form:\n",
        "\n",
        "$z = x^2 + y^2$\n",
        "we can clearly see a hyperplane that can distinguish both the datasets:"
      ]
    },
    {
      "cell_type": "code",
      "metadata": {
        "id": "XQamaPU8vfIz"
      },
      "source": [
        "Z = np.array([[i[0]**2 + i[1]**2] for i in X])"
      ],
      "execution_count": null,
      "outputs": []
    },
    {
      "cell_type": "code",
      "metadata": {
        "id": "zFi_pqMMvyPS"
      },
      "source": [
        "X_new = np.hstack((X, Z))"
      ],
      "execution_count": null,
      "outputs": []
    },
    {
      "cell_type": "code",
      "metadata": {
        "id": "t59SxC5L_BDY"
      },
      "source": [
        "import plotly.graph_objects as go\n"
      ],
      "execution_count": null,
      "outputs": []
    },
    {
      "cell_type": "code",
      "metadata": {
        "id": "1JuoK_qjwPr_"
      },
      "source": [
        "fig = go.Figure(data = [go.Scatter3d(\n",
        "    x = X_new[:, 0],\n",
        "    y = X_new[:, 1],\n",
        "    z = X_new[:, 2],\n",
        "    mode = \"markers\",\n",
        "    marker = {\n",
        "        \"color\" : y,\n",
        "        \"line\": {\"width\" : 4, \"color\":'DarkSlateGrey'},\n",
        "        \"colorscale\": \"viridis\"},\n",
        ")])\n",
        "\n",
        "fig.show()"
      ],
      "execution_count": null,
      "outputs": []
    },
    {
      "cell_type": "markdown",
      "metadata": {
        "id": "PdGH5BF2xuab"
      },
      "source": [
        "That simple trick has helped us to get another dimension in which the data is linearly separable by a hyperplane (in this case, a 2d plane)\n",
        "\n",
        "---\n",
        "\n",
        "Now let us use the rbf kernel and use an SVM Classifier."
      ]
    },
    {
      "cell_type": "code",
      "metadata": {
        "id": "ybfpMPLFyIiZ"
      },
      "source": [
        "plt.style.use(\"default\")\n",
        "clf = svm.SVC()\n",
        "pair = [0, 1]\n",
        "clf.fit(X[:, pair], y)\n",
        "plotDecisionBoundary(X, y, [0, 1], clf)"
      ],
      "execution_count": null,
      "outputs": []
    },
    {
      "cell_type": "markdown",
      "metadata": {
        "id": "FHwwqJzHyt23"
      },
      "source": [
        "Now let us get back to our original dataset of iris and see if this kernel trick has helped us:"
      ]
    },
    {
      "cell_type": "code",
      "metadata": {
        "id": "n6RS1AGtyfYs"
      },
      "source": [
        "iris = load_iris()\n",
        "X, y = iris.data, iris.target\n",
        "\n",
        "X_train, X_test, y_train, y_test = train_test_split(X, y, random_state = 0)\n",
        "clf = svm.SVC()\n",
        "clf.fit(X_train, y_train)\n",
        "y_pred = clf.predict(X_test)\n",
        "print(\"Accuracy of the decision tree on the test set: \\n\\n{:.3f}\\n\\n\".format(accuracy_score(y_pred, y_test)))\n",
        "class_names = iris[\"target_names\"]\n",
        "print(\"The confusion matrix is : \")\n",
        "cm = confusion_matrix(y_test, y_pred)\n",
        "\n",
        "disp = ConfusionMatrixDisplay(confusion_matrix=cm, display_labels=class_names)\n",
        "disp.plot(cmap='viridis', values_format='.0f')\n",
        "\n",
        "plt.show()"
      ],
      "execution_count": null,
      "outputs": []
    },
    {
      "cell_type": "markdown",
      "metadata": {
        "id": "29evrc-jy0WO"
      },
      "source": [
        "Certainly, using a kernel has increased our accuracy on the iris dataset."
      ]
    },
    {
      "cell_type": "markdown",
      "source": [
        "- **Try to run the same experiment after filtering different features, 2 at a time.**"
      ],
      "metadata": {
        "id": "LteLWVYtYu8m"
      }
    },
    {
      "cell_type": "code",
      "source": [
        "import numpy as np\n",
        "import pandas as pd\n",
        "import matplotlib.pyplot as plt\n",
        "from sklearn.datasets import load_iris\n",
        "from sklearn.model_selection import train_test_split\n",
        "from sklearn import svm\n",
        "from sklearn.metrics import accuracy_score, confusion_matrix, ConfusionMatrixDisplay\n",
        "\n",
        "# Load the Iris dataset\n",
        "iris = load_iris()\n",
        "X, y = iris.data, iris.target\n",
        "\n",
        "# Set up the list of feature pairs (indexes of the features)\n",
        "feature_pairs = [\n",
        "    [0, 1],  # Sepal Length, Sepal Width\n",
        "    [0, 2],  # Sepal Length, Petal Length\n",
        "    [0, 3],  # Sepal Length, Petal Width\n",
        "    [1, 2],  # Sepal Width, Petal Length\n",
        "    [1, 3],  # Sepal Width, Petal Width\n",
        "    [2, 3],  # Petal Length, Petal Width\n",
        "]\n",
        "\n",
        "# Loop through each feature pair and train the model\n",
        "for pair in feature_pairs:\n",
        "    print(f\"Training SVM with features: {iris.feature_names[pair[0]]} and {iris.feature_names[pair[1]]}\")\n",
        "\n",
        "    # Select the features based on the pair\n",
        "    X_selected = X[:, pair]\n",
        "\n",
        "    # Split the dataset into training and test sets\n",
        "    X_train, X_test, y_train, y_test = train_test_split(X_selected, y, random_state=0)\n",
        "\n",
        "    # Initialize and train the SVM classifier\n",
        "    clf = svm.SVC()\n",
        "    clf.fit(X_train, y_train)\n",
        "\n",
        "    # Predict using the test set\n",
        "    y_pred = clf.predict(X_test)\n",
        "\n",
        "    # Print the accuracy\n",
        "    accuracy = accuracy_score(y_test, y_pred)\n",
        "    print(f\"Accuracy of the model on the test set: {accuracy:.3f}\")\n",
        "\n",
        "    # Print and display the confusion matrix\n",
        "    cm = confusion_matrix(y_test, y_pred)\n",
        "    print(\"Confusion Matrix:\")\n",
        "    print(cm)\n",
        "\n",
        "    # Plot the confusion matrix\n",
        "    class_names = iris[\"target_names\"]\n",
        "    disp = ConfusionMatrixDisplay(confusion_matrix=cm, display_labels=class_names)\n",
        "    disp.plot(cmap='viridis', values_format='.0f')\n",
        "\n",
        "    # Show the confusion matrix plot\n",
        "    plt.show()\n"
      ],
      "metadata": {
        "id": "Ez2-Hzt35f9j"
      },
      "execution_count": null,
      "outputs": []
    },
    {
      "cell_type": "markdown",
      "source": [
        "- **Using different kinds of kernels for the SVM among: {‘linear’, ‘poly’, ‘rbf’, ‘sigmoid’, ‘precomputed’}**"
      ],
      "metadata": {
        "id": "ogYW28mF6eJd"
      }
    },
    {
      "cell_type": "code",
      "source": [
        "import numpy as np\n",
        "import pandas as pd\n",
        "import matplotlib.pyplot as plt\n",
        "from sklearn.datasets import load_iris\n",
        "from sklearn.model_selection import train_test_split\n",
        "from sklearn import svm\n",
        "from sklearn.metrics import accuracy_score, confusion_matrix, ConfusionMatrixDisplay\n",
        "from sklearn.metrics.pairwise import rbf_kernel\n",
        "\n",
        "# Load the Iris dataset\n",
        "iris = load_iris()\n",
        "X, y = iris.data, iris.target\n",
        "\n",
        "# Set up the list of feature pairs (indexes of the features)\n",
        "feature_pairs = [\n",
        "    [0, 1],  # Sepal Length, Sepal Width\n",
        "    [0, 2],  # Sepal Length, Petal Length\n",
        "    [0, 3],  # Sepal Length, Petal Width\n",
        "    [1, 2],  # Sepal Width, Petal Length\n",
        "    [1, 3],  # Sepal Width, Petal Width\n",
        "    [2, 3],  # Petal Length, Petal Width\n",
        "]\n",
        "\n",
        "# Set the kernels to test\n",
        "kernels = ['linear', 'poly', 'rbf', 'sigmoid', 'precomputed']\n",
        "\n",
        "# Loop through each feature pair and each kernel type\n",
        "for pair in feature_pairs:\n",
        "    print(f\"Training SVM with features: {iris.feature_names[pair[0]]} and {iris.feature_names[pair[1]]}\")\n",
        "\n",
        "    # Select the features based on the pair\n",
        "    X_selected = X[:, pair]\n",
        "\n",
        "    # Split the dataset into training and test sets\n",
        "    X_train, X_test, y_train, y_test = train_test_split(X_selected, y, random_state=0)\n",
        "\n",
        "    # Loop through each kernel type\n",
        "    for kernel in kernels:\n",
        "        print(f\"\\nUsing kernel: {kernel}\")\n",
        "\n",
        "        # If using 'precomputed', compute the kernel matrix\n",
        "        if kernel == 'precomputed':\n",
        "            # Use the RBF kernel to compute the kernel matrix\n",
        "            # You could replace rbf_kernel with other kernel functions like polynomial or linear\n",
        "            X_train_kernel = rbf_kernel(X_train, X_train)\n",
        "            X_test_kernel = rbf_kernel(X_test, X_train)  # Test set kernel with training set\n",
        "        else:\n",
        "            # For other kernels, use the regular data\n",
        "            X_train_kernel, X_test_kernel = X_train, X_test\n",
        "\n",
        "        # Initialize and train the SVM classifier with the chosen kernel\n",
        "        clf = svm.SVC(kernel=kernel)\n",
        "        clf.fit(X_train_kernel, y_train)\n",
        "\n",
        "        # Predict using the test set\n",
        "        y_pred = clf.predict(X_test_kernel)\n",
        "\n",
        "        # Print the accuracy\n",
        "        accuracy = accuracy_score(y_test, y_pred)\n",
        "        print(f\"Accuracy of the model on the test set: {accuracy:.3f}\")\n",
        "\n",
        "        # Print and display the confusion matrix\n",
        "        cm = confusion_matrix(y_test, y_pred)\n",
        "        print(\"Confusion Matrix:\")\n",
        "        print(cm)\n",
        "\n",
        "        # Plot the confusion matrix\n",
        "        class_names = iris[\"target_names\"]\n",
        "        disp = ConfusionMatrixDisplay(confusion_matrix=cm, display_labels=class_names)\n",
        "        disp.plot(cmap='viridis', values_format='.0f')\n",
        "\n",
        "        # Show the confusion matrix plot\n",
        "        plt.show()\n"
      ],
      "metadata": {
        "id": "FDtaWJcX5-V-"
      },
      "execution_count": null,
      "outputs": []
    },
    {
      "cell_type": "markdown",
      "source": [
        "## **Additional Critical Thinking Questions**"
      ],
      "metadata": {
        "id": "ZM6TPi7kdQTM"
      }
    },
    {
      "cell_type": "markdown",
      "source": [
        "Consider\ta\t2-class\tclassification\tproblem\tin\ta\t2-dimensional\tfeature\tspace\tx=[x1,\tx2]\twith\ttarget\tvariable\ty=±1.\tThe\ttraining\tdata\tcomprises\t7\n",
        "samples\tas\tshown\tin\tfigure (4\tblack\tdiamonds\tfor\tthe\tpositive\tclass\tand\t3\twhite\tdiamonds\tfor\tthe\tnegative\tclass). The\t“maximum\tmargin\tclassifier”\n",
        "(also\tcalled\tlinear\t“hard\tmargin”\tSVM)\tis\ta\tclassifier\tthat\tleaves\tthe\tlargest\tpossible\tmargin\ton\teither\tside\tof\tthe\tdecision\tboundary.\tThe\tsamples\tlying\ton\tthe\tmargin\tare\tcalled\tsupport\tvectors.\n",
        "\n",
        "![image.png](data:image/png;base64,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)\n",
        "\n",
        "\n",
        "1. Draw\tthe\tdecision\tboundary\tobtained\tby\tthe\tlinear\thard\n",
        "margin\tSVM\tmethod\twith\ta\tthick\tsolid\tline.\tDraw\tthe\tmargins\ton\teither\tside with\tthinner dashed\tlines.\tIdentify\tthe\tsupport\tvectors.\n"
      ],
      "metadata": {
        "id": "arOCcFSdfKbP"
      }
    },
    {
      "cell_type": "code",
      "source": [
        "import numpy as np\n",
        "import matplotlib.pyplot as plt\n",
        "from sklearn import svm\n",
        "\n",
        "# Define the training data (7 samples with 2 features each)\n",
        "X = np.array([[1, 3], [2, 4], [3, 3], [4, 2], [5, 4], [6, 3], [7, 2]])\n",
        "y = np.array([1, 1, 1, -1, -1, -1, 1])\n",
        "\n",
        "# Create the SVM classifier (linear kernel)\n",
        "clf = svm.SVC(kernel='linear', C=1e5)  # Hard margin, large C ensures no slack variable\n",
        "clf.fit(X, y)\n",
        "\n",
        "# Get the support vectors\n",
        "support_vectors = clf.support_vectors_\n",
        "\n",
        "# Get the decision boundary parameters (weights and intercept)\n",
        "w = clf.coef_[0]\n",
        "b = clf.intercept_[0]\n",
        "\n",
        "# Plot the data points\n",
        "plt.scatter(X[:, 0], X[:, 1], c=y, s=50, cmap='coolwarm', edgecolors='k')\n",
        "\n",
        "# Plot the support vectors\n",
        "plt.scatter(support_vectors[:, 0], support_vectors[:, 1], facecolors='none', edgecolors='r', s=100, label='Support Vectors')\n",
        "\n",
        "# Create the decision boundary and margins\n",
        "xx = np.linspace(0, 8, 30)\n",
        "yy = np.linspace(0, 8, 30)\n",
        "XX, YY = np.meshgrid(xx, yy)\n",
        "Z = w[0] * XX + w[1] * YY + b\n",
        "Z = np.sign(Z)\n",
        "\n",
        "# Plot decision boundary (thick solid line)\n",
        "plt.contour(XX, YY, Z, levels=[0], linewidths=2, colors='k')\n",
        "\n",
        "# Plot margins (thinner dashed lines)\n",
        "Z_margin = w[0] * XX + w[1] * YY + b\n",
        "plt.contour(XX, YY, Z_margin, levels=[1], linewidths=1, colors='k', linestyles='dashed')\n",
        "plt.contour(XX, YY, Z_margin, levels=[-1], linewidths=1, colors='k', linestyles='dashed')\n",
        "\n",
        "# Labels and title\n",
        "plt.xlabel('$x_1$')\n",
        "plt.ylabel('$x_2$')\n",
        "plt.title('Linear Hard Margin SVM with Decision Boundary and Margins')\n",
        "\n",
        "plt.legend()\n",
        "plt.show()\n"
      ],
      "metadata": {
        "id": "gbFwm_cx792M"
      },
      "execution_count": null,
      "outputs": []
    },
    {
      "cell_type": "markdown",
      "source": [
        "**2. What\tis\tthe\ttraining\terror\trate?**"
      ],
      "metadata": {
        "id": "9f0rCXlS84hJ"
      }
    },
    {
      "cell_type": "code",
      "source": [
        "import numpy as np\n",
        "from sklearn import svm\n",
        "\n",
        "# Define the training data (7 samples with 2 features each)\n",
        "X = np.array([[1, 3], [2, 4], [3, 3], [4, 2], [5, 4], [6, 3], [7, 2]])\n",
        "y = np.array([1, 1, 1, -1, -1, -1, 1])\n",
        "\n",
        "# Create the SVM classifier (linear kernel)\n",
        "clf = svm.SVC(kernel='linear', C=1e5)  # Hard margin, large C ensures no slack variable\n",
        "clf.fit(X, y)\n",
        "\n",
        "# Predict on the training data\n",
        "y_pred = clf.predict(X)\n",
        "\n",
        "# Calculate the number of misclassified samples\n",
        "misclassified = np.sum(y_pred != y)\n",
        "\n",
        "# Calculate the training error rate\n",
        "training_error_rate = (misclassified / len(y)) * 100\n",
        "\n",
        "# Output the training error rate\n",
        "print(f\"Training Error Rate: {training_error_rate:.2f}%\")\n"
      ],
      "metadata": {
        "id": "oFpGsoIl8NtV"
      },
      "execution_count": null,
      "outputs": []
    },
    {
      "cell_type": "markdown",
      "source": [
        "**3. The\tremoval\tof\twhich\tsample\twill\tchange\tthe\tdecision\tboundary?**"
      ],
      "metadata": {
        "id": "SrZLaR5g8_ps"
      }
    },
    {
      "cell_type": "code",
      "source": [
        "# After fitting the SVM classifier (e.g., clf.fit(X_train, y_train))\n",
        "support_vectors = clf.support_  # Get the indices of the support vectors\n",
        "\n",
        "# Show which samples are support vectors\n",
        "print(\"Support Vectors indices:\", support_vectors)\n",
        "\n",
        "# Check the samples that are support vectors\n",
        "support_vector_samples = X[support_vectors]\n",
        "print(\"Support Vector Samples:\", support_vector_samples)\n"
      ],
      "metadata": {
        "id": "q-z--LvO8uj_"
      },
      "execution_count": null,
      "outputs": []
    },
    {
      "cell_type": "markdown",
      "source": [
        "**4. What\tis\tthe\tleave-one-out\terror\trate?**"
      ],
      "metadata": {
        "id": "WiGZOlz09Gca"
      }
    },
    {
      "cell_type": "code",
      "source": [
        "from sklearn.model_selection import LeaveOneOut\n",
        "from sklearn import svm\n",
        "import numpy as np\n",
        "\n",
        "# Define the training data (7 samples with 2 features each)\n",
        "X = np.array([[1, 3], [2, 4], [3, 3], [4, 2], [5, 4], [6, 3], [7, 2]])\n",
        "y = np.array([1, 1, 1, -1, -1, -1, 1])\n",
        "\n",
        "# Create the SVM classifier (linear kernel)\n",
        "clf = svm.SVC(kernel='linear', C=1e5)  # Hard margin, large C ensures no slack variable\n",
        "\n",
        "# Initialize Leave-One-Out cross-validation\n",
        "loo = LeaveOneOut()\n",
        "\n",
        "# List to store predictions and true labels\n",
        "misclassified = 0\n",
        "total_samples = 0\n",
        "\n",
        "# Perform Leave-One-Out Cross-Validation\n",
        "for train_index, test_index in loo.split(X):\n",
        "    # Split the data into training and testing\n",
        "    X_train, X_test = X[train_index], X[test_index]\n",
        "    y_train, y_test = y[train_index], y[test_index]\n",
        "\n",
        "    # Train the classifier\n",
        "    clf.fit(X_train, y_train)\n",
        "\n",
        "    # Make prediction on the test set\n",
        "    y_pred = clf.predict(X_test)\n",
        "\n",
        "    # Check if the prediction is incorrect\n",
        "    if y_pred != y_test:\n",
        "        misclassified += 1\n",
        "    total_samples += 1\n",
        "\n",
        "# Calculate the Leave-One-Out Error Rate\n",
        "loo_error_rate = (misclassified / total_samples) * 100\n",
        "\n",
        "# Output the LOO error rate\n",
        "print(f\"Leave-One-Out Error Rate: {loo_error_rate:.2f}%\")\n"
      ],
      "metadata": {
        "id": "e27pYbSZ8ksg"
      },
      "execution_count": null,
      "outputs": []
    },
    {
      "cell_type": "markdown",
      "metadata": {
        "id": "N9AauG5wgjEy"
      },
      "source": [
        "\n",
        "---\n",
        "\n",
        "Helpful References and sources:\n",
        "\n",
        "- https://datamites.com/blog/support-vector-machine-algorithm-svm-understanding-kernel-trick/\n",
        "- https://www.datacamp.com/community/tutorials/svm-classification-scikit-learn-python\n",
        "- https://jakevdp.github.io/PythonDataScienceHandbook/05.07-support-vector-machines.html\n",
        "- https://scikit-learn.org/stable/modules/generated/sklearn.svm.SVC.html\n"
      ]
    }
  ]
}