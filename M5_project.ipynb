{
  "cells": [
    {
      "cell_type": "markdown",
      "metadata": {
        "id": "view-in-github",
        "colab_type": "text"
      },
      "source": [
        "<a href=\"https://colab.research.google.com/github/shrikant280304/FMML_PROJECTS_AND_LABS/blob/main/M5_project.ipynb\" target=\"_parent\"><img src=\"https://colab.research.google.com/assets/colab-badge.svg\" alt=\"Open In Colab\"/></a>"
      ]
    },
    {
      "cell_type": "code",
      "execution_count": null,
      "id": "effective-status",
      "metadata": {
        "id": "effective-status"
      },
      "outputs": [],
      "source": [
        "import pickle\n",
        "from tqdm import tqdm"
      ]
    },
    {
      "cell_type": "code",
      "execution_count": null,
      "id": "opened-spare",
      "metadata": {
        "id": "opened-spare",
        "colab": {
          "base_uri": "https://localhost:8080/",
          "height": 165
        },
        "outputId": "2c1f9a9d-6bbc-4e60-cc5f-a6f54a5d01b7"
      },
      "outputs": [
        {
          "output_type": "error",
          "ename": "FileNotFoundError",
          "evalue": "[Errno 2] No such file or directory: '/content/fingerDataSet.pickle'",
          "traceback": [
            "\u001b[0;31m---------------------------------------------------------------------------\u001b[0m",
            "\u001b[0;31mFileNotFoundError\u001b[0m                         Traceback (most recent call last)",
            "\u001b[0;32m<ipython-input-3-ff3ba70c5300>\u001b[0m in \u001b[0;36m<cell line: 0>\u001b[0;34m()\u001b[0m\n\u001b[0;32m----> 1\u001b[0;31m \u001b[0;32mwith\u001b[0m \u001b[0mopen\u001b[0m\u001b[0;34m(\u001b[0m\u001b[0;34m\"/content/fingerDataSet.pickle\"\u001b[0m\u001b[0;34m,\u001b[0m \u001b[0;34m\"rb\"\u001b[0m\u001b[0;34m)\u001b[0m \u001b[0;32mas\u001b[0m \u001b[0minfile\u001b[0m\u001b[0;34m:\u001b[0m\u001b[0;34m\u001b[0m\u001b[0;34m\u001b[0m\u001b[0m\n\u001b[0m\u001b[1;32m      2\u001b[0m     \u001b[0mdat\u001b[0m \u001b[0;34m=\u001b[0m \u001b[0mpickle\u001b[0m\u001b[0;34m.\u001b[0m\u001b[0mload\u001b[0m\u001b[0;34m(\u001b[0m\u001b[0minfile\u001b[0m\u001b[0;34m,\u001b[0m \u001b[0mencoding\u001b[0m\u001b[0;34m=\u001b[0m\u001b[0;34m\"bytes\"\u001b[0m\u001b[0;34m)\u001b[0m\u001b[0;34m\u001b[0m\u001b[0;34m\u001b[0m\u001b[0m\n",
            "\u001b[0;31mFileNotFoundError\u001b[0m: [Errno 2] No such file or directory: '/content/fingerDataSet.pickle'"
          ]
        }
      ],
      "source": [
        "with open(\"/content/fingerDataSet.pickle\", \"rb\") as infile:\n",
        "    dat = pickle.load(infile, encoding=\"bytes\")"
      ]
    },
    {
      "cell_type": "code",
      "execution_count": null,
      "id": "8cf88b46",
      "metadata": {
        "id": "8cf88b46"
      },
      "outputs": [],
      "source": [
        "import numpy as np\n",
        "from PIL import Image, ImageDraw\n",
        "from IPython.display import display\n",
        "import matplotlib.pyplot as plt\n",
        "from matplotlib.pyplot import imshow"
      ]
    },
    {
      "cell_type": "code",
      "execution_count": null,
      "id": "22a85858",
      "metadata": {
        "id": "22a85858"
      },
      "outputs": [],
      "source": [
        "dat[0].keys()"
      ]
    },
    {
      "cell_type": "code",
      "execution_count": null,
      "id": "9d5a20a8",
      "metadata": {
        "id": "9d5a20a8"
      },
      "outputs": [],
      "source": [
        "def highlightPoints(img, pts, color = \"yellow\"):\n",
        "    draw = ImageDraw.Draw(img)\n",
        "    for y, x in pts:\n",
        "        draw.point((x, y), fill = color)"
      ]
    },
    {
      "cell_type": "code",
      "execution_count": null,
      "id": "2e151888",
      "metadata": {
        "id": "2e151888"
      },
      "outputs": [],
      "source": [
        "imDat = dat[50]\n",
        "for key, item in imDat.items():\n",
        "    try:\n",
        "        print(key, type(item), item.shape)\n",
        "    except:\n",
        "        print(key, type(item), item)"
      ]
    },
    {
      "cell_type": "code",
      "execution_count": null,
      "id": "ae0fcea8",
      "metadata": {
        "scrolled": false,
        "id": "ae0fcea8"
      },
      "outputs": [],
      "source": [
        "imDat = dat[32]\n",
        "img = Image.fromarray(imDat[b'croppedImage'])\n",
        "img = img.convert(mode=\"RGB\")\n",
        "newFingerPoints = [(y - min(imDat[b\"box\"][:,0]), x - min(imDat[b\"box\"][: , 1])) for y, x in imDat[b\"allFingerPoints\"]]\n",
        "# highlightPoints(img, [(173, 211), (192, 253)])\n",
        "highlightPoints(img, newFingerPoints)\n",
        "# highlightPoints(img, imDat[b\"box\"], \"blue\")\n",
        "\n",
        "\n",
        "imshow(img)\n",
        "plt.gcf().set_dpi(70)"
      ]
    },
    {
      "cell_type": "code",
      "execution_count": null,
      "id": "fc88fdc6",
      "metadata": {
        "id": "fc88fdc6"
      },
      "outputs": [],
      "source": [
        "FILTER = 11"
      ]
    },
    {
      "cell_type": "code",
      "execution_count": null,
      "id": "69fb15af",
      "metadata": {
        "id": "69fb15af"
      },
      "outputs": [],
      "source": [
        "class PointDat:\n",
        "    def __init__(self, imgAr, isFinger : bool, coor = None, idx = None):\n",
        "        self.imgAr = imgAr\n",
        "        self.isFinger = isFinger\n",
        "        self.idx = idx\n",
        "        self.coor = coor\n",
        "\n",
        "    def __str__(self):\n",
        "        return \"Coors {} on idx {}\".format(self.coor, self.idx)\n",
        "\n",
        "    def data(self):\n",
        "        return self.imgAr.reshape(-1)\n",
        "\n",
        "    def getPointGrid(self):\n",
        "        return self.imgAr\n",
        "\n",
        "    def getBoolean(self):\n",
        "        return self.isFinger\n",
        "\n",
        "    def getCoors(self):\n",
        "        return self.coor"
      ]
    },
    {
      "cell_type": "code",
      "execution_count": null,
      "id": "b38c1075",
      "metadata": {
        "id": "b38c1075"
      },
      "outputs": [],
      "source": [
        "\n",
        "def highlightPoints(img, pts, color = \"yellow\"):\n",
        "    draw = ImageDraw.Draw(img)\n",
        "    for y, x in pts:\n",
        "        draw.point((x, y), fill = color)\n",
        "\n",
        "class ImgDat:\n",
        "    def __init__(self, dat, idx = None):\n",
        "        self.idx = idx\n",
        "        self.fullImage = dat[b\"image\"]\n",
        "        self.box = dat[b\"box\"]\n",
        "        self.topLeft = (int(min(dat[b\"box\"][:, 0])), int(min(dat[b\"box\"][:, 1])))\n",
        "        self.bottomRight = (int(max(dat[b\"box\"][:, 0])), int(max(dat[b\"box\"][:, 1])))\n",
        "\n",
        "        self.bitImage = dat[b\"image1bit\"][self.topLeft[0]:self.bottomRight[0], self.topLeft[1]:self.bottomRight[1]]\n",
        "        self.numFingers = dat[b\"numFingers\"]\n",
        "        self.boundImage = dat[b\"croppedImage\"]\n",
        "\n",
        "        self.fingerPoints = [(p1 - self.topLeft[0], p2 - self.topLeft[1]) for p1, p2 in dat[b\"allFingerPoints\"]]\n",
        "\n",
        "    def showImage(self):\n",
        "        img = Image.fromarray(self.boundImage)\n",
        "        img = img.convert(mode = \"RGB\")\n",
        "        return img\n",
        "\n",
        "    def showFingers(self):\n",
        "        COLS = [\"orange\", \"pink\", \"lime\"]\n",
        "        img = Image.fromarray(self.boundImage)\n",
        "        img = img.convert(mode = \"RGB\")\n",
        "        highlightPoints(img, self.fingerPoints, COLS[self.numFingers - 1])\n",
        "        return img\n",
        "\n",
        "    def showFullImage(self):\n",
        "        img = Image.fromarray(self.fullImage)\n",
        "        img = img.convert(mode = \"RGB\")\n",
        "        highlightPoints(img, self.box, \"yellow\")\n",
        "        return img\n",
        "\n",
        "    def makePointsDataset(self):\n",
        "        F = FILTER//2\n",
        "\n",
        "        collection = []\n",
        "        for r in range(F, self.bitImage.shape[0] - F):\n",
        "            for c in range(F, self.bitImage.shape[1] - F):\n",
        "#                 collection.append([self.bitImage[r-F:r+F, c-F:c+F], (r, c) in self.fingerPoints, (r, c)])\n",
        "                collection.append(PointDat(self.bitImage[r - F : r + F+1, c - F: c + F+1], (r, c) in self.fingerPoints, (r, c),\\\n",
        "                                            self.idx))\n",
        "\n",
        "        return np.array(collection, dtype=object)\n",
        "\n"
      ]
    },
    {
      "cell_type": "code",
      "execution_count": null,
      "id": "da235af4",
      "metadata": {
        "scrolled": false,
        "id": "da235af4"
      },
      "outputs": [],
      "source": [
        "sampleIndices = [0, 10, 52, 30, 40]\n",
        "fig, axs = plt.subplots(5, 3, figsize=(8, 16), gridspec_kw={'width_ratios': [3, 1, 1]})\n",
        "for r in range(5):\n",
        "    p = ImgDat(dat[sampleIndices[r]], sampleIndices[r])\n",
        "    axs[r][0].imshow(p.showFullImage())\n",
        "    axs[r][1].imshow(p.showImage())\n",
        "    axs[r][2].imshow(p.showFingers())\n",
        "fig.set_dpi(100)"
      ]
    },
    {
      "cell_type": "code",
      "execution_count": null,
      "id": "7426e768",
      "metadata": {
        "id": "7426e768"
      },
      "outputs": [],
      "source": [
        "p = ImgDat(dat[52], 52)\n",
        "d = p.makePointsDataset()"
      ]
    },
    {
      "cell_type": "code",
      "execution_count": null,
      "id": "9e967835",
      "metadata": {
        "id": "9e967835"
      },
      "outputs": [],
      "source": [
        "posPoints = [point for point in d if point.getBoolean()]\n",
        "negPoints = [point for point in d if not point.getBoolean()]\n"
      ]
    },
    {
      "cell_type": "markdown",
      "id": "393a5659",
      "metadata": {
        "id": "393a5659"
      },
      "source": [
        "### Positive Datapoints for grids that are finger points"
      ]
    },
    {
      "cell_type": "code",
      "execution_count": null,
      "id": "3caa2293",
      "metadata": {
        "scrolled": false,
        "id": "3caa2293"
      },
      "outputs": [],
      "source": [
        "np.random.seed(0)\n",
        "fig, axs = plt.subplots(3, 5, figsize=(15, 9))\n",
        "for ax in axs:\n",
        "    for a in ax:\n",
        "        point = np.random.choice(posPoints)\n",
        "        a.imshow(point.getPointGrid())\n",
        "        a.title.set_text(str(point))\n",
        "        a.set_xticks([FILTER//2])\n",
        "        a.set_yticks([FILTER//2])"
      ]
    },
    {
      "cell_type": "markdown",
      "id": "2bc05697",
      "metadata": {
        "id": "2bc05697"
      },
      "source": [
        "### Negative Datapoints for grids that are not finger points"
      ]
    },
    {
      "cell_type": "code",
      "execution_count": null,
      "id": "4649b8ec",
      "metadata": {
        "scrolled": false,
        "id": "4649b8ec"
      },
      "outputs": [],
      "source": [
        "np.random.seed(0)\n",
        "fig, axs = plt.subplots(3, 5, figsize=(15, 9))\n",
        "for ax in axs:\n",
        "    for a in ax:\n",
        "        point = np.random.choice(negPoints)\n",
        "        a.imshow(point.getPointGrid())\n",
        "        a.title.set_text(str(point))\n",
        "        a.set_xticks([FILTER//2])\n",
        "        a.set_yticks([FILTER//2])"
      ]
    },
    {
      "cell_type": "markdown",
      "id": "0ffd9592",
      "metadata": {
        "id": "0ffd9592"
      },
      "source": [
        "### Creating a method to cluster the points together and predict the number of fingers based on the number of clusters"
      ]
    },
    {
      "cell_type": "code",
      "execution_count": null,
      "id": "97d22023",
      "metadata": {
        "id": "97d22023"
      },
      "outputs": [],
      "source": [
        "def singleton(cls, *args, **kw):\n",
        "    instances = {}\n",
        "    def _singleton(*args, **kw):\n",
        "        if cls not in instances:\n",
        "            instances[cls] = cls(*args, **kw)\n",
        "        return instances[cls]\n",
        "    return _singleton\n",
        "\n",
        "@singleton\n",
        "class fingersFromPoints:\n",
        "\n",
        "    def findAdjacent(self, coordinates, coordinate, cluster):\n",
        "        distances = np.sqrt(np.sum((coordinates-coordinate)**2,1))\n",
        "        newCoordIndices = np.where(np.logical_and(distances<1.3, distances >0))[0]\n",
        "\n",
        "        for newCoordIndex in newCoordIndices:\n",
        "            if newCoordIndex not in cluster:\n",
        "                cluster.append(newCoordIndex)\n",
        "                self.findAdjacent(coordinates, coordinates[newCoordIndex, :], cluster)\n",
        "\n",
        "    def findClusters(self, coordinates):\n",
        "        allIndices = np.arange(len(coordinates))\n",
        "        clusters = []\n",
        "\n",
        "        while len(allIndices) > 0:\n",
        "\n",
        "            cluster = [allIndices[0]]\n",
        "            self.findAdjacent(coordinates, coordinates[allIndices[0],:], cluster)\n",
        "            allIndices = np.setdiff1d(allIndices, np.array((cluster)))\n",
        "            clusters.append(cluster)\n",
        "\n",
        "        return clusters\n",
        "\n",
        "    def findClusterCoors(self, coors):\n",
        "\n",
        "        clusters = self.findClusters(coors)\n",
        "        newClus = []\n",
        "        for c in clusters:\n",
        "            temp = []\n",
        "            for idx in c:\n",
        "                temp.append(coors[idx])\n",
        "            newClus.append(temp)\n",
        "        return newClus\n",
        "\n",
        "    def countFingers(self, clusters, minFingerSize = 15, fingerCutoff = 0.5):\n",
        "        sizes = []\n",
        "        for cluster in clusters:\n",
        "            sizes.append(len(cluster))\n",
        "\n",
        "        sizes = np.array(sizes)\n",
        "\n",
        "        if len(sizes) > 0:\n",
        "            if np.max(sizes) > minFingerSize:\n",
        "                fingerCluster = np.argmax(sizes)\n",
        "                numFingers = sum(sizes>fingerCutoff*sizes[fingerCluster])\n",
        "            else:\n",
        "                numFingers = 0\n",
        "        else:\n",
        "            numFingers = 0\n",
        "\n",
        "        return numFingers\n",
        "\n",
        "    def predictNumFingers(self, coors):\n",
        "        newCoors = np.array(coors)\n",
        "        clusters = self.findClusters(newCoors)\n",
        "        #print(clusters)\n",
        "        return self.countFingers(clusters)\n"
      ]
    },
    {
      "cell_type": "markdown",
      "id": "c66dfbd6",
      "metadata": {
        "id": "c66dfbd6"
      },
      "source": [
        "### Checking if the clustering is working with a datapoint"
      ]
    },
    {
      "cell_type": "code",
      "execution_count": null,
      "id": "78d97c92",
      "metadata": {
        "scrolled": true,
        "id": "78d97c92"
      },
      "outputs": [],
      "source": [
        "predObj = fingersFromPoints()\n",
        "\n",
        "imgObj = ImgDat(dat[52], 52)\n",
        "\n",
        "assert imgObj.numFingers == predObj.predictNumFingers(imgObj.fingerPoints), \"Clustering has failed for the dataimage \\\n",
        "with index {}. Something is wrong! {} is being predicted instead of {})\".format(imgObj.idx, predObj.predictNumFingers(imgObj.fingerPoints),\\\n",
        "                                                                               imgObj.numFingers)\n"
      ]
    },
    {
      "cell_type": "markdown",
      "id": "bdf39b9d",
      "metadata": {
        "id": "bdf39b9d"
      },
      "source": [
        "### Checking the accuracy over all the datapoints"
      ]
    },
    {
      "cell_type": "code",
      "execution_count": null,
      "id": "1587f96a",
      "metadata": {
        "id": "1587f96a"
      },
      "outputs": [],
      "source": [
        "cor, tot = 0, 0\n",
        "incor = []\n",
        "for idx, d in enumerate(dat):\n",
        "    imgObj = ImgDat(d, idx)\n",
        "    if imgObj.numFingers == predObj.predictNumFingers(imgObj.fingerPoints):\n",
        "        cor += 1\n",
        "    else:\n",
        "        incor.append(imgObj)\n",
        "    tot += 1\n",
        "\n",
        "print(\"The Clustering is correct for: {:.2f} % of the datapoints' ground truth\".format(cor * 100 / tot))"
      ]
    },
    {
      "cell_type": "markdown",
      "id": "bcfc4292",
      "metadata": {
        "id": "bcfc4292"
      },
      "source": [
        "The Answer is wrong for:"
      ]
    },
    {
      "cell_type": "code",
      "execution_count": null,
      "id": "24b81743",
      "metadata": {
        "id": "24b81743"
      },
      "outputs": [],
      "source": [
        "print(len(incor))"
      ]
    },
    {
      "cell_type": "markdown",
      "id": "80d4a3a1",
      "metadata": {
        "id": "80d4a3a1"
      },
      "source": [
        "### Let us examine on why are two of the input images are clustered incorrectly"
      ]
    },
    {
      "cell_type": "code",
      "execution_count": null,
      "id": "78c94eb6",
      "metadata": {
        "scrolled": false,
        "id": "78c94eb6"
      },
      "outputs": [],
      "source": [
        "fig, axs = plt.subplots(2, 3, figsize = (12, 10))\n",
        "incorIndices = []\n",
        "for idx, (ax, imObj) in enumerate(zip(axs, incor)):\n",
        "    print(\"Incorrect for {}\".format(imObj.idx))\n",
        "    incorIndices.append(imObj.idx)\n",
        "    ax[0].imshow(imObj.showImage())\n",
        "    ax[1].imshow(imObj.showFingers())\n",
        "    img = imObj.showImage()\n",
        "    clusters = predObj.findClusterCoors(np.array(imObj.fingerPoints))\n",
        "    COLS = [\"green\", \"red\", \"blue\", \"yello\", \"orange\", \"pink\"]\n",
        "    for idx2, c in enumerate(clusters):\n",
        "        highlightPoints(img, c, COLS[idx2])\n",
        "    ax[2].imshow(img)"
      ]
    },
    {
      "cell_type": "code",
      "execution_count": null,
      "id": "0bc43c42",
      "metadata": {
        "id": "0bc43c42"
      },
      "outputs": [],
      "source": [
        "allImg = [ImgDat(d, idx) for idx, d in enumerate(dat)]"
      ]
    },
    {
      "cell_type": "code",
      "execution_count": null,
      "id": "001215d4",
      "metadata": {
        "id": "001215d4"
      },
      "outputs": [],
      "source": [
        "from sklearn.model_selection import train_test_split"
      ]
    },
    {
      "cell_type": "code",
      "execution_count": null,
      "id": "80dd0764",
      "metadata": {
        "id": "80dd0764"
      },
      "outputs": [],
      "source": [
        "trainImg, testImg = train_test_split(allImg, test_size = 10, train_size = 44, random_state = 0)"
      ]
    },
    {
      "cell_type": "code",
      "execution_count": null,
      "id": "af29da76",
      "metadata": {
        "id": "af29da76"
      },
      "outputs": [],
      "source": [
        "trainPoints = np.array([], dtype=object)\n",
        "for imgObj in tqdm(trainImg):\n",
        "    trainPoints = np.append(trainPoints, imgObj.makePointsDataset())"
      ]
    },
    {
      "cell_type": "code",
      "execution_count": null,
      "id": "c1bb8f71",
      "metadata": {
        "id": "c1bb8f71"
      },
      "outputs": [],
      "source": [
        "X_train, y_train = np.array([p.data() for p in trainPoints]), np.array([p.getBoolean() for p in trainPoints])"
      ]
    },
    {
      "cell_type": "code",
      "execution_count": null,
      "id": "329bf165",
      "metadata": {
        "id": "329bf165"
      },
      "outputs": [],
      "source": [
        "X_train.shape, y_train.shape"
      ]
    },
    {
      "cell_type": "code",
      "execution_count": null,
      "id": "513a7c08",
      "metadata": {
        "id": "513a7c08"
      },
      "outputs": [],
      "source": [
        "from sklearn.tree import DecisionTreeClassifier\n",
        "clf = DecisionTreeClassifier(random_state = 0, max_depth = 3)"
      ]
    },
    {
      "cell_type": "code",
      "execution_count": null,
      "id": "317ae582",
      "metadata": {
        "id": "317ae582"
      },
      "outputs": [],
      "source": [
        "clf.fit(X_train, y_train)"
      ]
    },
    {
      "cell_type": "code",
      "execution_count": null,
      "id": "f85c5d41",
      "metadata": {
        "id": "f85c5d41"
      },
      "outputs": [],
      "source": [
        "#Training Error in terms of points:\n",
        "from sklearn.metrics import accuracy_score\n",
        "print(\"{:.2f} % of the training points classified correctly\".format(100*accuracy_score(clf.predict(X_train), y_train)))"
      ]
    },
    {
      "cell_type": "markdown",
      "id": "0c748056",
      "metadata": {
        "id": "0c748056"
      },
      "source": [
        "### Now lets us try it on the 10 test images"
      ]
    },
    {
      "cell_type": "code",
      "execution_count": null,
      "id": "2f4c1745",
      "metadata": {
        "scrolled": false,
        "id": "2f4c1745"
      },
      "outputs": [],
      "source": [
        "fig, axs = plt.subplots(10, 3, figsize = (9, 50))\n",
        "for idx, imgObj in enumerate(testImg):\n",
        "    testPoints = imgObj.makePointsDataset()\n",
        "    axs[idx][0].imshow(imgObj.showImage())\n",
        "    axs[idx][1].imshow(imgObj.showFingers())\n",
        "\n",
        "    coors = []\n",
        "    for point in testPoints:\n",
        "        if clf.predict([point.data()])[0]:\n",
        "            coors.append(point.getCoors())\n",
        "    clusters = predObj.findClusterCoors(np.array(coors))\n",
        "#     clusters = sorted(clusters, key = lambda c : len(c))\n",
        "#     clusters = clusters[::-1]\n",
        "#     clusters = clusters[:5]\n",
        "    img = imgObj.showImage()\n",
        "    COLS = [\"green\", \"red\", \"blue\", \"yellow\", \"orange\", \"pink\"]\n",
        "    for idx2, c in enumerate(clusters):\n",
        "#         pass\n",
        "        highlightPoints(img, c, COLS[idx2%6])\n",
        "    axs[idx][2].imshow(img)\n",
        "    if predObj.predictNumFingers(coors) == imgObj.numFingers:\n",
        "        print(\"Predicted correctly for idx : {}, the number: {}\".format(imgObj.idx, imgObj.numFingers))\n",
        "    else:\n",
        "        print(\"Predicted incorrectly for idx : {}, the number: {}\".format(imgObj.idx, imgObj.numFingers))\n",
        "#     print(\"Num clusters seen: {}\".format(len(clusters)))\n"
      ]
    },
    {
      "cell_type": "code",
      "execution_count": null,
      "id": "788f56df",
      "metadata": {
        "id": "788f56df"
      },
      "outputs": [],
      "source": [
        "from sklearn import tree"
      ]
    },
    {
      "cell_type": "code",
      "execution_count": null,
      "id": "9cc1d7c8",
      "metadata": {
        "id": "9cc1d7c8"
      },
      "outputs": [],
      "source": [
        "fig, ax = plt.subplots(figsize=(20, 7))\n",
        "imgObj = tree.plot_tree(clf, filled=True, ax=ax, impurity=False, proportion=True, rounded=True, fontsize = 10)\n",
        "plt.show()"
      ]
    },
    {
      "cell_type": "markdown",
      "id": "c1ac6cb4",
      "metadata": {
        "id": "c1ac6cb4"
      },
      "source": [
        "Visualizing the decision maker:"
      ]
    },
    {
      "cell_type": "code",
      "execution_count": null,
      "id": "ad08ebe5",
      "metadata": {
        "id": "ad08ebe5"
      },
      "outputs": [],
      "source": [
        "blank = np.ones((11, 11))\n",
        "img = Image.fromarray(blank)\n",
        "img = img.convert(mode=\"RGB\")\n",
        "\n",
        "imDraw = ImageDraw.Draw(img)\n",
        "imDraw.point((12%11, 12//11), fill = \"red\")\n",
        "imDraw.point((54%11, 54//11), fill = \"red\")\n",
        "imDraw.point((60%11, 60//11), fill = \"green\")\n",
        "plt.imshow(img)"
      ]
    }
  ],
  "metadata": {
    "kernelspec": {
      "display_name": "Python 3 (ipykernel)",
      "language": "python",
      "name": "python3"
    },
    "language_info": {
      "codemirror_mode": {
        "name": "ipython",
        "version": 3
      },
      "file_extension": ".py",
      "mimetype": "text/x-python",
      "name": "python",
      "nbconvert_exporter": "python",
      "pygments_lexer": "ipython3",
      "version": "3.9.1"
    },
    "colab": {
      "provenance": [],
      "include_colab_link": true
    }
  },
  "nbformat": 4,
  "nbformat_minor": 5
}